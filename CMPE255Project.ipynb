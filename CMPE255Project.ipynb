{
 "cells": [
  {
   "cell_type": "code",
   "execution_count": null,
   "id": "102470c4-820e-4bed-a807-fc4e9c40a114",
   "metadata": {},
   "outputs": [],
   "source": [
    "import pandas as pd\n",
    "from sklearn.model_selection import train_test_split\n",
    "from sklearn.ensemble import RandomForestClassifier\n",
    "from sklearn.metrics import classification_report, accuracy_score\n",
    "\n",
    "df = pd.read_csv('DSL-StrongPasswordData.csv', header=None)\n",
    "\n",
    "print(df.head())\n",
    "print(df.dtypes)"
   ]
  },
  {
   "cell_type": "code",
   "execution_count": null,
   "id": "e5fc3b4b-3651-4ee2-8f3d-771ed8b46970",
   "metadata": {},
   "outputs": [],
   "source": [
    "from sklearn.model_selection import train_test_split\n",
    "from sklearn.ensemble import RandomForestClassifier\n",
    "from sklearn.metrics import classification_report, accuracy_score\n",
    "from sklearn.utils import shuffle\n",
    "\n",
    "#remove subject, sessionIndex, and rep columns\n",
    "x = df.drop(columns=[0, 1, 2])\n",
    "x = x.drop(0)\n",
    "\n",
    "print(x)\n",
    "\n",
    "#remove subject label\n",
    "y = df[0]\n",
    "y = y.drop(0)\n",
    "\n",
    "print(y)"
   ]
  },
  {
   "cell_type": "code",
   "execution_count": null,
   "id": "0c870720-0a09-474d-ae4a-af4d229f50d0",
   "metadata": {},
   "outputs": [],
   "source": [
    "# turn columns into numeric value\n",
    "x = x.apply(pd.to_numeric, errors='coerce')\n",
    "\n",
    "X_train, X_test, y_train, y_test = train_test_split(x, y, test_size=0.2, random_state=42)\n",
    "\n",
    "#Random Forest Classifier\n",
    "classifier = RandomForestClassifier(n_estimators=500, random_state=42)\n",
    "classifier.fit(X_train, y_train)"
   ]
  },
  {
   "cell_type": "code",
   "execution_count": null,
   "id": "d13d02e2-3d50-43f1-a7b1-7bdd19d5ca62",
   "metadata": {},
   "outputs": [],
   "source": [
    "y_pred = classifier.predict(X_test)\n",
    "\n",
    "print(\"Accuracy:\", accuracy_score(y_test, y_pred))\n",
    "print(\"Detailed Report:\")\n",
    "print(classification_report(y_test, y_pred))"
   ]
  },
  {
   "cell_type": "code",
   "execution_count": null,
   "id": "cd5e65a1-1702-425e-bd62-ea8e1904bdb3",
   "metadata": {},
   "outputs": [],
   "source": [
    "from random import randint\n",
    "\n",
    "# taking random sample from dataset to test classification\n",
    "sample_index = randint(1,20400)\n",
    "single_sample = x.iloc[sample_index].values.reshape(1, -1)\n",
    "print(sample_index)\n",
    "print(single_sample)"
   ]
  },
  {
   "cell_type": "code",
   "execution_count": null,
   "id": "e822f8d8-a144-4228-87bd-33e5e4ee69a1",
   "metadata": {},
   "outputs": [],
   "source": [
    "# classifying random sample and comparing it with the user\n",
    "prediction = classifier.predict(single_sample)\n",
    "actual_label = y.iloc[sample_index]\n",
    "\n",
    "print(\"Predicted User ID:\", prediction[0])\n",
    "print(\"Actual User ID:   \", actual_label)"
   ]
  }
 ],
 "metadata": {
  "kernelspec": {
   "display_name": "Python 3 (ipykernel)",
   "language": "python",
   "name": "python3"
  },
  "language_info": {
   "codemirror_mode": {
    "name": "ipython",
    "version": 3
   },
   "file_extension": ".py",
   "mimetype": "text/x-python",
   "name": "python",
   "nbconvert_exporter": "python",
   "pygments_lexer": "ipython3",
   "version": "3.9.13"
  }
 },
 "nbformat": 4,
 "nbformat_minor": 5
}
