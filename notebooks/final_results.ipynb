{
 "cells": [
  {
   "cell_type": "code",
   "execution_count": 6,
   "id": "5b36c291",
   "metadata": {},
   "outputs": [
    {
     "name": "stdout",
     "output_type": "stream",
     "text": [
      "✅ Loaded metrics.csv\n"
     ]
    },
    {
     "data": {
      "text/html": [
       "<div>\n",
       "<style scoped>\n",
       "    .dataframe tbody tr th:only-of-type {\n",
       "        vertical-align: middle;\n",
       "    }\n",
       "\n",
       "    .dataframe tbody tr th {\n",
       "        vertical-align: top;\n",
       "    }\n",
       "\n",
       "    .dataframe thead th {\n",
       "        text-align: right;\n",
       "    }\n",
       "</style>\n",
       "<table border=\"1\" class=\"dataframe\">\n",
       "  <thead>\n",
       "    <tr style=\"text-align: right;\">\n",
       "      <th></th>\n",
       "      <th>model</th>\n",
       "      <th>acc</th>\n",
       "      <th>f1</th>\n",
       "      <th>auc</th>\n",
       "    </tr>\n",
       "  </thead>\n",
       "  <tbody>\n",
       "    <tr>\n",
       "      <th>3</th>\n",
       "      <td>mlp</td>\n",
       "      <td>0.93575</td>\n",
       "      <td>0.93575</td>\n",
       "      <td>0.996469</td>\n",
       "    </tr>\n",
       "    <tr>\n",
       "      <th>4</th>\n",
       "      <td>xgb</td>\n",
       "      <td>0.93200</td>\n",
       "      <td>0.93200</td>\n",
       "      <td>0.996584</td>\n",
       "    </tr>\n",
       "    <tr>\n",
       "      <th>0</th>\n",
       "      <td>knn</td>\n",
       "      <td>0.91725</td>\n",
       "      <td>0.91725</td>\n",
       "      <td>0.977677</td>\n",
       "    </tr>\n",
       "    <tr>\n",
       "      <th>2</th>\n",
       "      <td>rf</td>\n",
       "      <td>0.91200</td>\n",
       "      <td>0.91200</td>\n",
       "      <td>0.993551</td>\n",
       "    </tr>\n",
       "    <tr>\n",
       "      <th>1</th>\n",
       "      <td>logreg</td>\n",
       "      <td>0.90025</td>\n",
       "      <td>0.90025</td>\n",
       "      <td>0.990120</td>\n",
       "    </tr>\n",
       "  </tbody>\n",
       "</table>\n",
       "</div>"
      ],
      "text/plain": [
       "    model      acc       f1       auc\n",
       "3     mlp  0.93575  0.93575  0.996469\n",
       "4     xgb  0.93200  0.93200  0.996584\n",
       "0     knn  0.91725  0.91725  0.977677\n",
       "2      rf  0.91200  0.91200  0.993551\n",
       "1  logreg  0.90025  0.90025  0.990120"
      ]
     },
     "metadata": {},
     "output_type": "display_data"
    },
    {
     "data": {
      "image/png": "[encoded data removed]",
      "text/plain": [
       "<Figure size 1000x600 with 3 Axes>"
      ]
     },
     "metadata": {},
     "output_type": "display_data"
    },
    {
     "name": "stdout",
     "output_type": "stream",
     "text": [
      "⚠️ Confusion matrix for model 'mlp' not found.\n"
     ]
    }
   ],
   "source": [
    "import pandas as pd\n",
    "import matplotlib.pyplot as plt\n",
    "import seaborn as sns\n",
    "from pathlib import Path\n",
    "import glob\n",
    "\n",
    "# Load results\n",
    "results_path = Path(\"../results/metrics.csv\")\n",
    "assert results_path.exists(), \"metrics.csv not found. Run train.py first.\"\n",
    "\n",
    "df = pd.read_csv(results_path)\n",
    "print(\"✅ Loaded metrics.csv\")\n",
    "df = df.sort_values(\"acc\", ascending=False)\n",
    "\n",
    "display(df)\n",
    "\n",
    "# Bar plot of Accuracy, F1, AUC\n",
    "plt.figure(figsize=(10, 6))\n",
    "metrics = [\"acc\", \"f1\", \"auc\"]\n",
    "for i, metric in enumerate(metrics):\n",
    "    plt.subplot(1, 3, i + 1)\n",
    "    sns.barplot(data=df, x=\"model\", y=metric)\n",
    "    plt.title(metric.upper())\n",
    "    plt.ylim(0.7, 1.0)\n",
    "    plt.xticks(rotation=45)\n",
    "plt.tight_layout()\n",
    "plt.show()\n",
    "\n",
    "# Show best confusion matrix\n",
    "from IPython.display import Image, display\n",
    "best_model = df.iloc[0][\"model\"]\n",
    "image_path = Path(f\"results/figures/confmat_{best_model}.png\")\n",
    "if image_path.exists():\n",
    "    display(Image(filename=str(image_path)))\n",
    "else:\n",
    "    print(f\"⚠️ Confusion matrix for model '{best_model}' not found.\")\n"
   ]
  }
 ],
 "metadata": {
  "kernelspec": {
   "display_name": "venv",
   "language": "python",
   "name": "python3"
  },
  "language_info": {
   "codemirror_mode": {
    "name": "ipython",
    "version": 3
   },
   "file_extension": ".py",
   "mimetype": "text/x-python",
   "name": "python",
   "nbconvert_exporter": "python",
   "pygments_lexer": "ipython3",
   "version": "3.13.2"
  }
 },
 "nbformat": 4,
 "nbformat_minor": 5
}
